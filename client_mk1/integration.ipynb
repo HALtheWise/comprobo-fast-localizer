{
 "cells": [
  {
   "cell_type": "code",
   "execution_count": 97,
   "metadata": {
    "collapsed": true
   },
   "outputs": [],
   "source": [
    "from feat_2d import Circle2D\n",
    "from color import Color\n",
    "from feat_detect_circles import get_circles, get_frames\n",
    "from fast_image import Image\n",
    "\n",
    "\n",
    "\n",
    "import copy\n",
    "import numpy as np\n",
    "\n",
    "%matplotlib inline\n",
    "import matplotlib.pyplot as plt"
   ]
  },
  {
   "cell_type": "code",
   "execution_count": 32,
   "metadata": {
    "collapsed": false
   },
   "outputs": [
    {
     "data": {
      "text/plain": [
       "array([[  793.        ,   259.        ,   112.64102173],\n",
       "       [  793.        ,   765.        ,   112.53887939],\n",
       "       [ 1295.        ,   275.        ,    67.53517914],\n",
       "       [ 1303.        ,   323.        ,    73.08214569],\n",
       "       [ 1295.        ,   705.        ,    70.02856445],\n",
       "       [ 1251.        ,   721.        ,   114.86513519],\n",
       "       [ 1259.        ,   309.        ,   113.9912262 ],\n",
       "       [ 1285.        ,   751.        ,    70.21395874]], dtype=float32)"
      ]
     },
     "execution_count": 32,
     "metadata": {},
     "output_type": "execute_result"
    }
   ],
   "source": [
    "imgs = get_frames(\"./../test_data/circle4.mp4\")\n",
    "fst_frame = imgs[0]\n",
    "circles = get_circles(fst_frame)[0]\n",
    "circles\n"
   ]
  },
  {
   "cell_type": "code",
   "execution_count": 83,
   "metadata": {
    "collapsed": false
   },
   "outputs": [
    {
     "name": "stdout",
     "output_type": "stream",
     "text": [
      "[Circle(center=[ 793.  259.], radius=112.641021729), Circle(center=[ 793.  765.], radius=112.538879395), Circle(center=[ 1295.   275.], radius=67.5351791382), Circle(center=[ 1303.   323.], radius=73.0821456909), Circle(center=[ 1295.   705.], radius=70.0285644531), Circle(center=[ 1251.   721.], radius=114.865135193), Circle(center=[ 1259.   309.], radius=113.991226196), Circle(center=[ 1285.   751.], radius=70.2139587402)]\n"
     ]
    }
   ],
   "source": [
    "circs = []\n",
    "for rep in circles:\n",
    "    c = Circle2D((rep[0], rep[1]), rep[2], Color(Image(fst_frame).getHSV(rep[0], rep[1]), tol=10))\n",
    "    circs.append(c)\n",
    "    \n",
    "print circs\n",
    "ts_circs = [circs]"
   ]
  },
  {
   "cell_type": "code",
   "execution_count": 84,
   "metadata": {
    "collapsed": false
   },
   "outputs": [],
   "source": [
    "for frame in imgs[1:]:\n",
    "    new_circs = []\n",
    "    for c in circs:\n",
    "        c.refine(Image(frame))\n",
    "        new_circs.append(copy.deepcopy(c))\n",
    "    ts_circs.append(new_circs)\n",
    "    circs = copy.deepcopy(new_circs)\n"
   ]
  },
  {
   "cell_type": "code",
   "execution_count": 85,
   "metadata": {
    "collapsed": false
   },
   "outputs": [
    {
     "data": {
      "text/plain": [
       "[Circle(center=[ 793.  259.], radius=112.641021729),\n",
       " Circle(center=[798 771], radius=106),\n",
       " Circle(center=[1300  314], radius=73),\n",
       " Circle(center=[1297  314], radius=64),\n",
       " Circle(center=[1289  732], radius=81),\n",
       " Circle(center=[1285  720], radius=0),\n",
       " Circle(center=[1288  312], radius=71),\n",
       " Circle(center=[1286  731], radius=82)]"
      ]
     },
     "execution_count": 85,
     "metadata": {},
     "output_type": "execute_result"
    }
   ],
   "source": [
    "ts_circs[1]"
   ]
  },
  {
   "cell_type": "code",
   "execution_count": 66,
   "metadata": {
    "collapsed": false
   },
   "outputs": [
    {
     "data": {
      "text/plain": [
       "[Circle(center=[951 345], radius=46),\n",
       " Circle(center=[991 612], radius=68),\n",
       " Circle(center=[1271  270], radius=34),\n",
       " Circle(center=[1246  283], radius=18),\n",
       " Circle(center=[1213  597], radius=52),\n",
       " Circle(center=[1232  665], radius=41),\n",
       " Circle(center=[1244  268], radius=32),\n",
       " Circle(center=[1215  598], radius=54)]"
      ]
     },
     "execution_count": 66,
     "metadata": {},
     "output_type": "execute_result"
    }
   ],
   "source": [
    "ts_circs[102]"
   ]
  },
  {
   "cell_type": "code",
   "execution_count": 96,
   "metadata": {
    "collapsed": true
   },
   "outputs": [],
   "source": [
    "import copy\n",
    "import numpy as np\n",
    "\n",
    "%matplotlib inline\n",
    "import matplotlib.pyplot as plt"
   ]
  },
  {
   "cell_type": "code",
   "execution_count": 86,
   "metadata": {
    "collapsed": false
   },
   "outputs": [],
   "source": [
    "a = np.array([[c.center for c in circs] for circs in ts_circs])"
   ]
  },
  {
   "cell_type": "code",
   "execution_count": 90,
   "metadata": {
    "collapsed": false
   },
   "outputs": [],
   "source": [
    "xs, ys = a.T"
   ]
  },
  {
   "cell_type": "code",
   "execution_count": 95,
   "metadata": {
    "collapsed": false
   },
   "outputs": [
    {
     "data": {
      "text/plain": [
       "(225, 8)"
      ]
     },
     "execution_count": 95,
     "metadata": {},
     "output_type": "execute_result"
    }
   ],
   "source": [
    "for timeincr in zip(xs, ys)\n",
    "    for line in timeincr"
   ]
  },
  {
   "cell_type": "code",
   "execution_count": null,
   "metadata": {
    "collapsed": true
   },
   "outputs": [],
   "source": []
  }
 ],
 "metadata": {
  "kernelspec": {
   "display_name": "Python 2",
   "language": "python",
   "name": "python2"
  },
  "language_info": {
   "codemirror_mode": {
    "name": "ipython",
    "version": 2
   },
   "file_extension": ".py",
   "mimetype": "text/x-python",
   "name": "python",
   "nbconvert_exporter": "python",
   "pygments_lexer": "ipython2",
   "version": "2.7.13"
  }
 },
 "nbformat": 4,
 "nbformat_minor": 2
}
