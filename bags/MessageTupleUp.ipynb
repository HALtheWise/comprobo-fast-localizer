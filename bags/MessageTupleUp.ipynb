{
 "cells": [
  {
   "cell_type": "code",
   "execution_count": 1,
   "metadata": {
    "collapsed": false
   },
   "outputs": [
    {
     "name": "stdout",
     "output_type": "stream",
     "text": [
      "attempt1_2017-03-20-16-38-30.bag    orangecircle_2017-03-20-16-42-10.bag\r\n",
      "circles_2017-03-20-16-41-18.bag     qea1_2017-03-20-16-45-00.bag\r\n",
      "easycircle_2017-03-20-16-43-01.bag  qea2_2017-03-20-16-47-23.bag\r\n",
      "hall_2017-03-20-16-52-12.bag        \u001b[0m\u001b[01;31msba-1.6.tgz\u001b[0m\r\n",
      "libsbaprojs.so                      Untitled.ipynb\r\n",
      "\u001b[01;32mlibsba.so\u001b[0m*                          whiteboard1_2017-03-20-16-49-50.bag\r\n"
     ]
    }
   ],
   "source": [
    "%ls"
   ]
  },
  {
   "cell_type": "code",
   "execution_count": 44,
   "metadata": {
    "collapsed": true
   },
   "outputs": [],
   "source": [
    "import rosbag\n",
    "import pickle\n",
    "fname = \"./circles_2017-03-20-16-41-18.bag\""
   ]
  },
  {
   "cell_type": "code",
   "execution_count": 46,
   "metadata": {
    "collapsed": false
   },
   "outputs": [
    {
     "name": "stdout",
     "output_type": "stream",
     "text": [
      "Unique times\n"
     ]
    }
   ],
   "source": [
    "bag = rosbag.Bag(fname, 'r')\n",
    "\n",
    "data = sorted(bag.read_messages(topics=['/tango_pose', '/point_cloud']),\n",
    "              key = lambda x: x[2]) #Sort by time"
   ]
  },
  {
   "cell_type": "code",
   "execution_count": 47,
   "metadata": {
    "collapsed": false
   },
   "outputs": [],
   "source": [
    "assoc = []\n",
    "for i, msg in enumerate(data):\n",
    "    if msg.topic != \"/point_cloud\":\n",
    "        continue\n",
    "    back_i = fwd_i = i\n",
    "    while (data[back_i].topic != '/tango_pose'):\n",
    "        back_i -= 1\n",
    "    prev = data[back_i]\n",
    "    while (data[fwd_i].topic != '/tango_pose'):\n",
    "        fwd_i -= 1\n",
    "    nxt = data[fwd_i]\n",
    "    \n",
    "    if (msg.timestamp - prev.timestamp) < (nxt.timestamp - msg.timestamp):\n",
    "        assoc.append((prev, msg))\n",
    "    else:\n",
    "        assoc.append((nxt, msg))"
   ]
  },
  {
   "cell_type": "code",
   "execution_count": 41,
   "metadata": {
    "collapsed": true
   },
   "outputs": [],
   "source": []
  },
  {
   "cell_type": "code",
   "execution_count": 49,
   "metadata": {
    "collapsed": false
   },
   "outputs": [],
   "source": [
    "with open(fname+'.pcl-camera.pickle', 'a') as f:\n",
    "    pickle.dump(assoc, f)"
   ]
  },
  {
   "cell_type": "code",
   "execution_count": 31,
   "metadata": {
    "collapsed": false
   },
   "outputs": [],
   "source": [
    "rosbag.Bag?"
   ]
  },
  {
   "cell_type": "code",
   "execution_count": 32,
   "metadata": {
    "collapsed": true
   },
   "outputs": [],
   "source": [
    "import os"
   ]
  },
  {
   "cell_type": "code",
   "execution_count": 35,
   "metadata": {
    "collapsed": false
   },
   "outputs": [
    {
     "data": {
      "text/plain": [
       "['circles_2017-03-20-16-41-18.bag',\n",
       " 'qea1_2017-03-20-16-45-00.bag',\n",
       " 'attempt1_2017-03-20-16-38-30.bag',\n",
       " 'qea2_2017-03-20-16-47-23.bag',\n",
       " 'libsba.so',\n",
       " 'Untitled.ipynb',\n",
       " 'libsbaprojs.so',\n",
       " 'easycircle_2017-03-20-16-43-01.bag',\n",
       " '.ipynb_checkpoints',\n",
       " 'orangecircle_2017-03-20-16-42-10.bag',\n",
       " 'hall_2017-03-20-16-52-12.bag',\n",
       " 'sba-1.6.tgz',\n",
       " 'whiteboard1_2017-03-20-16-49-50.bag']"
      ]
     },
     "execution_count": 35,
     "metadata": {},
     "output_type": "execute_result"
    }
   ],
   "source": [
    "os.listdir(\".\")"
   ]
  },
  {
   "cell_type": "code",
   "execution_count": 36,
   "metadata": {
    "collapsed": true
   },
   "outputs": [],
   "source": [
    "pickle.dump?"
   ]
  },
  {
   "cell_type": "code",
   "execution_count": 48,
   "metadata": {
    "collapsed": false
   },
   "outputs": [
    {
     "data": {
      "text/plain": [
       "137"
      ]
     },
     "execution_count": 48,
     "metadata": {},
     "output_type": "execute_result"
    }
   ],
   "source": [
    "len(assoc)"
   ]
  },
  {
   "cell_type": "code",
   "execution_count": null,
   "metadata": {
    "collapsed": true
   },
   "outputs": [],
   "source": []
  }
 ],
 "metadata": {
  "kernelspec": {
   "display_name": "Python 2",
   "language": "python",
   "name": "python2"
  },
  "language_info": {
   "codemirror_mode": {
    "name": "ipython",
    "version": 2
   },
   "file_extension": ".py",
   "mimetype": "text/x-python",
   "name": "python",
   "nbconvert_exporter": "python",
   "pygments_lexer": "ipython2",
   "version": "2.7.12"
  }
 },
 "nbformat": 4,
 "nbformat_minor": 2
}
