{
 "cells": [
  {
   "cell_type": "code",
   "execution_count": 11,
   "metadata": {
    "collapsed": true,
    "deletable": true,
    "editable": true
   },
   "outputs": [],
   "source": [
    "import numpy as np\n",
    "import matplotlib.pyplot as plt\n",
    "\n",
    "import time\n",
    "from copy import deepcopy\n",
    "\n",
    "import cv2\n",
    "\n",
    "from IPython.display import clear_output"
   ]
  },
  {
   "cell_type": "code",
   "execution_count": 2,
   "metadata": {
    "collapsed": false,
    "deletable": true,
    "editable": true
   },
   "outputs": [],
   "source": [
    "%load_ext line_profiler"
   ]
  },
  {
   "cell_type": "markdown",
   "metadata": {
    "deletable": true,
    "editable": true
   },
   "source": [
    "# Useful resources\n",
    "[OpenCV tutorial](http://docs.opencv.org/3.0-beta/doc/py_tutorials/py_gui/py_video_display/py_video_display.html#playing-video-from-file)"
   ]
  },
  {
   "cell_type": "markdown",
   "metadata": {
    "deletable": true,
    "editable": true
   },
   "source": [
    "# Define types for features"
   ]
  },
  {
   "cell_type": "code",
   "execution_count": 110,
   "metadata": {
    "collapsed": true,
    "deletable": true,
    "editable": true
   },
   "outputs": [],
   "source": [
    "class Image(object):\n",
    "    def __init__(self, img):\n",
    "        self.img = img\n",
    "        self.pixelsAccessed = []\n",
    "    \n",
    "    def getHSV(self, x, y):\n",
    "        x = int(x)\n",
    "        y = int(y)\n",
    "        self.pixelsAccessed.append((x, y))\n",
    "        rgb = self.img[y:y+1, x:x+1]\n",
    "        hsv = cv2.cvtColor(rgb, cv2.COLOR_BGR2HSV)\n",
    "        return hsv[0, 0]\n",
    "    \n",
    "    def draw(self, img):\n",
    "        color = (0, 0, 255)\n",
    "        for p in self.pixelsAccessed:\n",
    "            img[p[1], p[0]] = color"
   ]
  },
  {
   "cell_type": "code",
   "execution_count": 4,
   "metadata": {
    "collapsed": true,
    "deletable": true,
    "editable": true
   },
   "outputs": [],
   "source": [
    "class Color(object):\n",
    "    def __init__(self, minimum, maximum, colorspace='HSV'):\n",
    "        if colorspace != 'HSV':\n",
    "            raise Exception(\"Invalid colorspace, only HSV supported\")\n",
    "            \n",
    "        self.min = minimum\n",
    "        self.max = maximum\n",
    "        \n",
    "    def matches(self, color):\n",
    "        # Check hue condition\n",
    "        if self.min[0] > self.max[0]:\n",
    "            # The hue range wraps past the edge\n",
    "            if color[0] > self.max[0] and color[0] < self.min[0]:\n",
    "                return False\n",
    "        else:\n",
    "            if color[0] > self.max[0] or color[0] < self.min[0]:\n",
    "                return False\n",
    "            \n",
    "        # Check saturation and value conditions\n",
    "        for i in (1, 2):\n",
    "            if color[i] > self.max[i] or color[i] < self.min[i]:\n",
    "                return False\n",
    "        \n",
    "        return True"
   ]
  },
  {
   "cell_type": "code",
   "execution_count": 138,
   "metadata": {
    "collapsed": false,
    "deletable": true,
    "editable": true
   },
   "outputs": [],
   "source": [
    "class Circle2D(object):\n",
    "    def __init__(self, center, radius, colorRange):\n",
    "        self.center = np.array(center)\n",
    "        self.radius = radius\n",
    "        self.color  = colorRange\n",
    "        \n",
    "        # TODO: this should be a scalar with more reasonable behavior\n",
    "        self.confidence = True\n",
    "    \n",
    "    def draw(self, img):\n",
    "        \"\"\"\n",
    "        Taking in a numpy array representing an OpenCV image,\n",
    "        draws a visual debugging indication of this feature\n",
    "        \"\"\"\n",
    "        drawColor = (128, 255, 0) if self.confidence else (0, 0, 255)\n",
    "        cv2.circle(img, tuple(self.center), self.radius, drawColor, thickness=5)\n",
    "        cv2.circle(img, tuple(self.center), 5, drawColor, thickness=-1)\n",
    "        \n",
    "    def refine(self, image, verbose=False, searchRange = 200):\n",
    "        \"\"\"\n",
    "        Taking in an Image object, updates this feature to better align\n",
    "        with the observed pixels.\n",
    "        \n",
    "        searchRange represents the maximum pixel distance the target\n",
    "            object could have moved.\n",
    "        \"\"\"\n",
    "        \n",
    "        def matchesAt(x, y):\n",
    "            return self.color.matches(image.getHSV(x, y))\n",
    "\n",
    "            \n",
    "        \n",
    "        if matchesAt(*self.center):\n",
    "            self.confidence = True\n",
    "            \n",
    "        else:\n",
    "            self.confidence = False\n",
    "            if verbose:\n",
    "                print \"Center point color is {}\".format(\n",
    "                    image.getHSV(*self.center))\n",
    "            return\n",
    "        \n",
    "        #NOISE_DIST = 3\n",
    "        \n",
    "        maxDist = searchRange + self.radius\n",
    "        \n",
    "        ## Find the x-coordinate of the center of the circle\n",
    "        \n",
    "        left = np.array((-1, 0))\n",
    "        leftPoint = doBinarySearch(image, self.color, \n",
    "                       self.center, self.center - maxDist*left)\n",
    "        \n",
    "        right = np.array((1, 0))\n",
    "        rightPoint = doBinarySearch(image, self.color, \n",
    "                       self.center, self.center - maxDist*right)\n",
    "        \n",
    "        self.center = np.array((leftPoint + rightPoint) / 2, dtype=np.int32)\n",
    "        \n",
    "        ## Find the y-coordinate of the center\n",
    "        up = np.array((0, 1))\n",
    "        topPoint = doBinarySearch(image, self.color, \n",
    "                       self.center, self.center - maxDist*up)\n",
    "        \n",
    "        down = np.array((0, -1))\n",
    "        bottomPoint = doBinarySearch(image, self.color, \n",
    "                       self.center, self.center - maxDist*down)\n",
    "        \n",
    "        self.center = np.array((topPoint + bottomPoint) / 2, dtype=np.int32)\n",
    "        \n",
    "        ## Calculate the radius\n",
    "        self.radius = int(np.linalg.norm(topPoint - bottomPoint) / 2)\n",
    "        \n",
    "        \n",
    "        \n",
    "        \n"
   ]
  },
  {
   "cell_type": "code",
   "execution_count": 139,
   "metadata": {
    "collapsed": true,
    "deletable": true,
    "editable": true
   },
   "outputs": [],
   "source": [
    "green = Color((30, 60, 100), (60, 255, 255))\n",
    "orange = Color((5, 150, 130), (30, 255, 255))\n",
    "\n",
    "greenCircle = Circle2D((1920/2, 1080/2), 400, green)\n",
    "orangeCircle = Circle2D((1920/2, 1080/2), 400, orange)\n",
    "\n",
    "greenSmall = Circle2D((1100, 700), 130, green)\n",
    "orangeSmall = Circle2D((600, 700), 130, orange)"
   ]
  },
  {
   "cell_type": "markdown",
   "metadata": {},
   "source": [
    "# Define helper functions for searching"
   ]
  },
  {
   "cell_type": "code",
   "execution_count": 140,
   "metadata": {
    "collapsed": true
   },
   "outputs": [],
   "source": [
    "def doLinearSearch(image, color, start, end, \n",
    "                   numSteps=None, tol=0, verbose=False):\n",
    "    \"\"\"\n",
    "    Runs a linear search between start and end, \n",
    "    both specified as iterables of length 2\n",
    "    (x, y) where start must match color and end must not.\n",
    "    Tolerates stretches of incorrect pixel color up to tol long without\n",
    "    returning wildly incorrect results.\n",
    "    \n",
    "    Returns a np array of the coordinates of the transition found\n",
    "    \"\"\"\n",
    "    end = np.array(end)\n",
    "    start = np.array(start)\n",
    "    if numSteps is None:\n",
    "        numSteps = max(np.abs(end - start))\n",
    "        \n",
    "    stepsize = (end - start)/float(numSteps)\n",
    "    if verbose:\n",
    "        print \"stepsize={}\".format(stepsize)\n",
    "    \n",
    "    missCount = 0\n",
    "    for i in range(numSteps):\n",
    "        point = np.array(start + i*stepsize, dtype=np.int32)\n",
    "        if not color.matches(image.getHSV(*point)):\n",
    "            missCount += 1\n",
    "        else:\n",
    "            missCount = 0\n",
    "\n",
    "        if missCount > tol:\n",
    "            result = np.array(start + (i - tol)*stepsize, dtype=np.int32)\n",
    "            if verbose:\n",
    "                print \"Search end found after {} steps at {}\".format(i, result)\n",
    "            break\n",
    "            \n",
    "    return result\n",
    "    "
   ]
  },
  {
   "cell_type": "code",
   "execution_count": 141,
   "metadata": {
    "collapsed": false,
    "deletable": true,
    "editable": true
   },
   "outputs": [],
   "source": [
    "def doBinarySearch(image, color, start, end, \n",
    "                   numSteps=float('inf'), verbose=False):\n",
    "    \"\"\"\n",
    "    Runs a binary search between start and end, \n",
    "    both specified as iterables of length 2\n",
    "    (x, y) where start must match color and end must not.\n",
    "    \n",
    "    Returns a np array of the coordinates of the transition found\n",
    "    \"\"\"\n",
    "    lower = np.array(start, dtype=np.float64)\n",
    "    upper = np.array(end, dtype=np.float64)\n",
    "    \n",
    "    i = 0\n",
    "    while i < numSteps and max(np.abs(upper - lower)) > 1:\n",
    "        point = (upper + lower) / 2\n",
    "        \n",
    "        if color.matches(image.getHSV(*point)):\n",
    "            lower = point\n",
    "        else:\n",
    "            upper = point\n",
    "\n",
    "            \n",
    "    return np.array((upper + lower) / 2, dtype=np.int32)"
   ]
  },
  {
   "cell_type": "markdown",
   "metadata": {},
   "source": [
    "## Tests"
   ]
  },
  {
   "cell_type": "markdown",
   "metadata": {
    "deletable": true,
    "editable": true
   },
   "source": [
    "# Capture and handle video"
   ]
  },
  {
   "cell_type": "code",
   "execution_count": 142,
   "metadata": {
    "collapsed": true,
    "deletable": true,
    "editable": true
   },
   "outputs": [],
   "source": [
    "FILE = '../test_data/smooth_1.mp4'\n",
    "cv2.namedWindow('raw_frame')"
   ]
  },
  {
   "cell_type": "code",
   "execution_count": 144,
   "metadata": {
    "collapsed": false,
    "deletable": true,
    "editable": true,
    "scrolled": false
   },
   "outputs": [
    {
     "name": "stdout",
     "output_type": "stream",
     "text": [
      "7.5ms reading and drawing image, 2.8ms processing, 74 pixels accessed\n",
      "\n",
      "End of video file reached\n"
     ]
    }
   ],
   "source": [
    "cap = cv2.VideoCapture(FILE)\n",
    "\n",
    "def handleFrame(frame, features, verbose=False):\n",
    "    image = Image(frame)\n",
    "\n",
    "    for f in features:\n",
    "        f.refine(image, verbose=verbose)\n",
    "    \n",
    "    return image\n",
    "\n",
    "\n",
    "def main():\n",
    "    features = deepcopy([greenSmall, orangeSmall])\n",
    "    i=0\n",
    "    while cap.isOpened():\n",
    "        verbose = i%50 == 0\n",
    "        if verbose:\n",
    "            clear_output()\n",
    "        i += 1\n",
    "        \n",
    "        startTime = time.time()\n",
    "        ret, frame = cap.read()\n",
    "        readTime = time.time()\n",
    "\n",
    "        if frame is None or len(frame) <= 0:\n",
    "            print \"End of video file reached\"\n",
    "            break\n",
    "\n",
    "        # Do work here\n",
    "        image = handleFrame(frame, features, verbose=verbose)\n",
    "        \n",
    "        finishTime = time.time()\n",
    "\n",
    "        for f in features:\n",
    "            f.draw(frame)\n",
    "            \n",
    "        image.draw(frame)\n",
    "        scaled = cv2.resize(frame, dsize=None, fx=0.5, fy=0.5)\n",
    "        cv2.imshow('raw_frame', scaled)\n",
    "        \n",
    "        drawnTime = time.time()\n",
    "\n",
    "        cv2.waitKey(1)\n",
    "        \n",
    "        if verbose:\n",
    "            print \"{0:.1f}ms reading and drawing image, {1:.1f}ms processing, {2} pixels accessed\\n\".format(\n",
    "                (readTime-startTime + drawnTime-finishTime)*1000, \n",
    "                (finishTime-readTime)*1000, \n",
    "                len(image.pixelsAccessed))\n",
    "        \n",
    "main()"
   ]
  },
  {
   "cell_type": "markdown",
   "metadata": {
    "deletable": true,
    "editable": true
   },
   "source": [
    "# Profile things"
   ]
  },
  {
   "cell_type": "code",
   "execution_count": 135,
   "metadata": {
    "collapsed": false,
    "deletable": true,
    "editable": true
   },
   "outputs": [
    {
     "data": {
      "text/plain": [
       "<line_profiler.LineProfiler at 0x7fed84062600>"
      ]
     },
     "execution_count": 135,
     "metadata": {},
     "output_type": "execute_result"
    }
   ],
   "source": [
    "cap = cv2.VideoCapture(FILE)\n",
    "\n",
    "def bench():\n",
    "    features = deepcopy([greenSmall])\n",
    "    for _ in range(60):\n",
    "        ret, frame = cap.read()\n",
    "        handleFrame(frame, features)\n",
    "    \n",
    "%lprun -r -f doBinarySearch bench()"
   ]
  },
  {
   "cell_type": "code",
   "execution_count": null,
   "metadata": {
    "collapsed": true
   },
   "outputs": [],
   "source": []
  }
 ],
 "metadata": {
  "kernelspec": {
   "display_name": "Python 2",
   "language": "python",
   "name": "python2"
  },
  "language_info": {
   "codemirror_mode": {
    "name": "ipython",
    "version": 2
   },
   "file_extension": ".py",
   "mimetype": "text/x-python",
   "name": "python",
   "nbconvert_exporter": "python",
   "pygments_lexer": "ipython2",
   "version": "2.7.12"
  }
 },
 "nbformat": 4,
 "nbformat_minor": 2
}
