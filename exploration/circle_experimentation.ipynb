{
 "cells": [
  {
   "cell_type": "code",
   "execution_count": 58,
   "metadata": {
    "collapsed": true
   },
   "outputs": [],
   "source": [
    "import numpy as np\n",
    "import matplotlib.pyplot as plt\n",
    "\n",
    "import time\n",
    "from copy import deepcopy\n",
    "\n",
    "import cv2"
   ]
  },
  {
   "cell_type": "markdown",
   "metadata": {},
   "source": [
    "# Useful resources\n",
    "[OpenCV tutorial](http://docs.opencv.org/3.0-beta/doc/py_tutorials/py_gui/py_video_display/py_video_display.html#playing-video-from-file)"
   ]
  },
  {
   "cell_type": "markdown",
   "metadata": {},
   "source": [
    "# Capture and handle video"
   ]
  },
  {
   "cell_type": "code",
   "execution_count": 2,
   "metadata": {
    "collapsed": true
   },
   "outputs": [],
   "source": [
    "FILE = '../test_data/simple_green.mp4'\n",
    "cv2.namedWindow('raw_frame')"
   ]
  },
  {
   "cell_type": "code",
   "execution_count": 60,
   "metadata": {
    "collapsed": true
   },
   "outputs": [],
   "source": [
    "cap = cv2.VideoCapture(FILE)"
   ]
  },
  {
   "cell_type": "code",
   "execution_count": 61,
   "metadata": {
    "collapsed": false
   },
   "outputs": [
    {
     "name": "stdout",
     "output_type": "stream",
     "text": [
      "End of video file reached\n"
     ]
    }
   ],
   "source": [
    "features = deepcopy([greenCircle])\n",
    "while cap.isOpened():\n",
    "    startTime = time.time()\n",
    "    ret, frame = cap.read()\n",
    "    readTime = time.time()\n",
    "    \n",
    "    if frame is None or len(frame) <= 0:\n",
    "        print \"End of video file reached\"\n",
    "        break\n",
    "        \n",
    "    # Do work here\n",
    "    \n",
    "    \n",
    "    \n",
    "    finishTime = time.time()\n",
    "    \n",
    "    for f in features:\n",
    "        f.draw(frame)\n",
    "    scaled = cv2.resize(frame, dsize=None, fx=0.5, fy=0.5)\n",
    "    cv2.imshow('raw_frame', scaled)\n",
    "    \n",
    "    cv2.waitKey(10)\n",
    "    \n",
    "    #print \"{}ms reading image, {}ms processing\".format(\n",
    "    #    (readTime-startTime)*1000, (finishTime-readTime)*1000)\n",
    "    "
   ]
  },
  {
   "cell_type": "markdown",
   "metadata": {},
   "source": [
    "# Define types for features"
   ]
  },
  {
   "cell_type": "code",
   "execution_count": 52,
   "metadata": {
    "collapsed": true
   },
   "outputs": [],
   "source": [
    "class Color(object):\n",
    "    def __init__(self, minimum, maximum, colorspace='HSV'):\n",
    "        if colorspace != 'HSV':\n",
    "            raise Exception(\"Invalid colorspace, only HSV supported\")\n",
    "            \n",
    "        self.min = minimum\n",
    "        self.max = maximum\n",
    "        \n",
    "    def matches(self, color):\n",
    "        # Check hue condition\n",
    "        if self.min[0] > self.max[0]:\n",
    "            # The hue range wraps past the edge\n",
    "            if color[0] > self.max[0] and color[0] < self.min[0]:\n",
    "                return False\n",
    "        else:\n",
    "            if color[0] > self.max[0] or color[0] < self.min[0]:\n",
    "                return False\n",
    "            \n",
    "        # Check saturation and value conditions\n",
    "        for i in (1, 2):\n",
    "            if color[i] > self.max[i] or color[i] < self.min[i]:\n",
    "                return False\n",
    "        \n",
    "        return True"
   ]
  },
  {
   "cell_type": "code",
   "execution_count": 54,
   "metadata": {
    "collapsed": false
   },
   "outputs": [],
   "source": [
    "class Circle2D(object):\n",
    "    def __init__(self, center, radius, color):\n",
    "        self.center = center\n",
    "        self.radius = radius\n",
    "        self.color  = color\n",
    "    \n",
    "    def draw(self, image):\n",
    "        cv2.circle(image, self.center, self.radius, (255, 0, 0), thickness=5)\n",
    "    \n",
    "green = Color((50,100,100), (150, 255, 255))\n",
    "greenCircle = Circle2D((1920/2, 1080/2), 400, green)"
   ]
  },
  {
   "cell_type": "code",
   "execution_count": null,
   "metadata": {
    "collapsed": true
   },
   "outputs": [],
   "source": []
  }
 ],
 "metadata": {
  "kernelspec": {
   "display_name": "Python 2",
   "language": "python",
   "name": "python2"
  },
  "language_info": {
   "codemirror_mode": {
    "name": "ipython",
    "version": 2
   },
   "file_extension": ".py",
   "mimetype": "text/x-python",
   "name": "python",
   "nbconvert_exporter": "python",
   "pygments_lexer": "ipython2",
   "version": "2.7.12"
  }
 },
 "nbformat": 4,
 "nbformat_minor": 2
}
