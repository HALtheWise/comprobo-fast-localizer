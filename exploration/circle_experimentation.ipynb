{
 "cells": [
  {
   "cell_type": "code",
   "execution_count": 1,
   "metadata": {
    "collapsed": true
   },
   "outputs": [],
   "source": [
    "import numpy as np\n",
    "import matplotlib.pyplot as plt\n",
    "\n",
    "import time\n",
    "from copy import deepcopy\n",
    "\n",
    "import cv2"
   ]
  },
  {
   "cell_type": "code",
   "execution_count": 20,
   "metadata": {
    "collapsed": false
   },
   "outputs": [
    {
     "name": "stdout",
     "output_type": "stream",
     "text": [
      "The line_profiler extension is already loaded. To reload it, use:\n",
      "  %reload_ext line_profiler\n"
     ]
    }
   ],
   "source": [
    "%load_ext line_profiler"
   ]
  },
  {
   "cell_type": "markdown",
   "metadata": {},
   "source": [
    "# Useful resources\n",
    "[OpenCV tutorial](http://docs.opencv.org/3.0-beta/doc/py_tutorials/py_gui/py_video_display/py_video_display.html#playing-video-from-file)"
   ]
  },
  {
   "cell_type": "markdown",
   "metadata": {},
   "source": [
    "# Capture and handle video"
   ]
  },
  {
   "cell_type": "code",
   "execution_count": 3,
   "metadata": {
    "collapsed": true
   },
   "outputs": [],
   "source": [
    "FILE = '../test_data/simple_green.mp4'\n",
    "cv2.namedWindow('raw_frame')"
   ]
  },
  {
   "cell_type": "code",
   "execution_count": 6,
   "metadata": {
    "collapsed": true
   },
   "outputs": [],
   "source": [
    "cap = cv2.VideoCapture(FILE)"
   ]
  },
  {
   "cell_type": "code",
   "execution_count": 12,
   "metadata": {
    "collapsed": false
   },
   "outputs": [
    {
     "name": "stdout",
     "output_type": "stream",
     "text": [
      "hi\n"
     ]
    },
    {
     "ename": "NameError",
     "evalue": "global name 'image' is not defined",
     "output_type": "error",
     "traceback": [
      "\u001b[0;31m--------------------------------------\u001b[0m",
      "\u001b[0;31mNameError\u001b[0mTraceback (most recent call last)",
      "\u001b[0;32m<ipython-input-12-23aa57e284f2>\u001b[0m in \u001b[0;36m<module>\u001b[0;34m()\u001b[0m\n\u001b[1;32m     34\u001b[0m             image.pixelsAccessed)\n\u001b[1;32m     35\u001b[0m \u001b[0;34m\u001b[0m\u001b[0m\n\u001b[0;32m---> 36\u001b[0;31m \u001b[0mmain\u001b[0m\u001b[0;34m(\u001b[0m\u001b[0;34m)\u001b[0m\u001b[0;34m\u001b[0m\u001b[0m\n\u001b[0m",
      "\u001b[0;32m<ipython-input-12-23aa57e284f2>\u001b[0m in \u001b[0;36mmain\u001b[0;34m()\u001b[0m\n\u001b[1;32m     32\u001b[0m             \u001b[0;34m(\u001b[0m\u001b[0mreadTime\u001b[0m\u001b[0;34m-\u001b[0m\u001b[0mstartTime\u001b[0m\u001b[0;34m)\u001b[0m\u001b[0;34m*\u001b[0m\u001b[0;36m1000\u001b[0m\u001b[0;34m,\u001b[0m\u001b[0;34m\u001b[0m\u001b[0m\n\u001b[1;32m     33\u001b[0m             \u001b[0;34m(\u001b[0m\u001b[0mfinishTime\u001b[0m\u001b[0;34m-\u001b[0m\u001b[0mreadTime\u001b[0m\u001b[0;34m)\u001b[0m\u001b[0;34m*\u001b[0m\u001b[0;36m1000\u001b[0m\u001b[0;34m,\u001b[0m\u001b[0;34m\u001b[0m\u001b[0m\n\u001b[0;32m---> 34\u001b[0;31m             image.pixelsAccessed)\n\u001b[0m\u001b[1;32m     35\u001b[0m \u001b[0;34m\u001b[0m\u001b[0m\n\u001b[1;32m     36\u001b[0m \u001b[0mmain\u001b[0m\u001b[0;34m(\u001b[0m\u001b[0;34m)\u001b[0m\u001b[0;34m\u001b[0m\u001b[0m\n",
      "\u001b[0;31mNameError\u001b[0m: global name 'image' is not defined"
     ]
    }
   ],
   "source": [
    "def handleFrame(frame, features):\n",
    "    image = Image(frame)\n",
    "\n",
    "    for f in features:\n",
    "        f.refine(image)\n",
    "\n",
    "\n",
    "def main():\n",
    "    features = deepcopy([greenCircle])\n",
    "    while cap.isOpened():\n",
    "        startTime = time.time()\n",
    "        ret, frame = cap.read()\n",
    "        readTime = time.time()\n",
    "\n",
    "        if frame is None or len(frame) <= 0:\n",
    "            print \"End of video file reached\"\n",
    "            break\n",
    "\n",
    "        # Do work here\n",
    "        handleFrame(frame, features)\n",
    "        \n",
    "        finishTime = time.time()\n",
    "\n",
    "        for f in features:\n",
    "            f.draw(frame)\n",
    "        scaled = cv2.resize(frame, dsize=None, fx=0.5, fy=0.5)\n",
    "        cv2.imshow('raw_frame', scaled)\n",
    "\n",
    "        cv2.waitKey(30)\n",
    "\n",
    "        print \"{}ms reading image, {}ms processing, {}px accessed\".format(\n",
    "            (readTime-startTime)*1000, \n",
    "            (finishTime-readTime)*1000, \n",
    "            image.pixelsAccessed)\n",
    "        \n",
    "main()"
   ]
  },
  {
   "cell_type": "markdown",
   "metadata": {},
   "source": [
    "# Profile things"
   ]
  },
  {
   "cell_type": "code",
   "execution_count": 64,
   "metadata": {
    "collapsed": false
   },
   "outputs": [
    {
     "name": "stdout",
     "output_type": "stream",
     "text": [
      "hi\n"
     ]
    },
    {
     "data": {
      "text/plain": [
       "<line_profiler.LineProfiler at 0x7fdbd82ae808>"
      ]
     },
     "execution_count": 64,
     "metadata": {},
     "output_type": "execute_result"
    }
   ],
   "source": [
    "ret, frame = cap.read()\n",
    "\n",
    "def bench():\n",
    "    features = deepcopy([greenCircle])\n",
    "    handleFrame(frame, features)\n",
    "    \n",
    "%lprun -r -f Circle2D.refine bench()"
   ]
  },
  {
   "cell_type": "markdown",
   "metadata": {},
   "source": [
    "# Define types for features"
   ]
  },
  {
   "cell_type": "code",
   "execution_count": 8,
   "metadata": {
    "collapsed": true
   },
   "outputs": [],
   "source": [
    "class Image(object):\n",
    "    def __init__(self, img):\n",
    "        self.img = img\n",
    "        self.pixelsAccessed = 0\n",
    "    \n",
    "    def getHSV(self, x, y):\n",
    "        self.pixelsAccessed += 1\n",
    "        rgb = self.img[y:y+1, x:x+1]\n",
    "        hsv = cv2.cvtColor(rgb, cv2.COLOR_BGR2HSV)\n",
    "        return hsv[0, 0]"
   ]
  },
  {
   "cell_type": "code",
   "execution_count": 9,
   "metadata": {
    "collapsed": true
   },
   "outputs": [],
   "source": [
    "class Color(object):\n",
    "    def __init__(self, minimum, maximum, colorspace='HSV'):\n",
    "        if colorspace != 'HSV':\n",
    "            raise Exception(\"Invalid colorspace, only HSV supported\")\n",
    "            \n",
    "        self.min = minimum\n",
    "        self.max = maximum\n",
    "        \n",
    "    def matches(self, color):\n",
    "        # Check hue condition\n",
    "        if self.min[0] > self.max[0]:\n",
    "            # The hue range wraps past the edge\n",
    "            if color[0] > self.max[0] and color[0] < self.min[0]:\n",
    "                return False\n",
    "        else:\n",
    "            if color[0] > self.max[0] or color[0] < self.min[0]:\n",
    "                return False\n",
    "            \n",
    "        # Check saturation and value conditions\n",
    "        for i in (1, 2):\n",
    "            if color[i] > self.max[i] or color[i] < self.min[i]:\n",
    "                return False\n",
    "        \n",
    "        return True"
   ]
  },
  {
   "cell_type": "code",
   "execution_count": 10,
   "metadata": {
    "collapsed": false
   },
   "outputs": [],
   "source": [
    "class Circle2D(object):\n",
    "    def __init__(self, center, radius, colorRange):\n",
    "        self.center = center\n",
    "        self.radius = radius\n",
    "        self.color  = colorRange\n",
    "        \n",
    "        # TODO: this should be a scalar with more reasonable behavior\n",
    "        self.confidence = True\n",
    "    \n",
    "    def draw(self, img):\n",
    "        \"\"\"\n",
    "        Taking in a numpy array representing an OpenCV image,\n",
    "        draws a visual debugging indication of this feature\n",
    "        \"\"\"\n",
    "        drawColor = (128, 255, 0) if self.confidence else (0, 0, 255)\n",
    "        cv2.circle(img, self.center, self.radius, drawColor, thickness=5)\n",
    "        cv2.circle(img, self.center, 5, drawColor, thickness=-1)\n",
    "        \n",
    "    def refine(self, image, verbose=False, searchRange = 500):\n",
    "        \"\"\"\n",
    "        Taking in an Image object, updates this feature to better align\n",
    "        with the observed pixels.\n",
    "        \n",
    "        searchRange represents the maximum pixel distance the target\n",
    "            object could have moved.\n",
    "        \"\"\"\n",
    "        \n",
    "        def matchesAt(x, y):\n",
    "            return self.color.matches(image.getHSV(x, y))\n",
    "        \n",
    "        if matchesAt(*self.center):\n",
    "            self.confidence = True\n",
    "            \n",
    "        else:\n",
    "            self.confidence = False\n",
    "            return\n",
    "\n",
    "        print 'hi'\n",
    "        \n",
    "        ## Find the x-coordinate of the center of the circle\n",
    "        leftEdge = rightEdge = self.center[0]\n",
    "        \n",
    "        maxDist = searchRange + self.radius\n",
    "        \n",
    "        missCount = 0\n",
    "        for i in range(maxDist):\n",
    "            if not matchesAt(self.center[0]-i, self.center[1]):\n",
    "                missCount += 1\n",
    "            else:\n",
    "                missCount = 0\n",
    "            \n",
    "            if missCount > 0:\n",
    "                leftEdge = self.center[0]-i\n",
    "                if verbose:\n",
    "                    print \"Left edge found after {} pixels\".format(i)\n",
    "                break\n",
    "        \n",
    "        missCount = 0\n",
    "        for i in range(maxDist):\n",
    "            if not matchesAt(self.center[0]+i, self.center[1]):\n",
    "                missCount += 1\n",
    "            else:\n",
    "                missCount = 0\n",
    "            \n",
    "            if missCount > 0:\n",
    "                rightEdge = self.center[0]+i\n",
    "                if verbose:\n",
    "                    print \"Right edge found after {} pixels\".format(i)\n",
    "                break\n",
    "                \n",
    "        self.center = (int((leftEdge + rightEdge) / 2), self.center[1])\n",
    "        \n",
    "        if verbose:\n",
    "            print self.center\n",
    "\n",
    "            print \"Center point color is {}: {}\".format(\n",
    "                centerColor,\n",
    "                'match' if self.color.matches(centerColor) else 'no match'\n",
    "                )\n",
    "        \n",
    "        \n",
    "        \n",
    "    \n",
    "green = Color((40,60,100), (60, 255, 255))\n",
    "greenCircle = Circle2D((1920/2, 1080/2), 400, green)"
   ]
  },
  {
   "cell_type": "code",
   "execution_count": null,
   "metadata": {
    "collapsed": true
   },
   "outputs": [],
   "source": []
  }
 ],
 "metadata": {
  "kernelspec": {
   "display_name": "Python 2",
   "language": "python",
   "name": "python2"
  },
  "language_info": {
   "codemirror_mode": {
    "name": "ipython",
    "version": 2
   },
   "file_extension": ".py",
   "mimetype": "text/x-python",
   "name": "python",
   "nbconvert_exporter": "python",
   "pygments_lexer": "ipython2",
   "version": "2.7.12"
  }
 },
 "nbformat": 4,
 "nbformat_minor": 2
}
